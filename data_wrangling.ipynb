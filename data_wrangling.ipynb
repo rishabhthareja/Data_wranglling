{
 "cells": [
  {
   "cell_type": "code",
   "execution_count": 143,
   "metadata": {},
   "outputs": [],
   "source": [
    "def data_wranglling_info(data_frame):\n",
    "    \n",
    "    # Finding all the features in the dataset\n",
    "    null_val = data_frame.isnull()\n",
    "    list_column_name = []\n",
    "    for i in data_frame.columns:\n",
    "        list_column_name.append(i)\n",
    "        \n",
    "    print('The features in the dataset\\n',list_column_name)\n",
    "    print(\"\\n\")\n",
    "        \n",
    "    # Computing the number of NaN values in every feature\n",
    "    print('The number of Nan in every feature')\n",
    "    count=0\n",
    "    nan_count_list = []\n",
    "    for j in range(len(list_column_name)):\n",
    "        for nan in data_frame[list_column_name[j]].isnull():\n",
    "            if nan == True:\n",
    "                count=count+1\n",
    "        nan_count_list.append(count)\n",
    "    \n",
    "    for n in range(len(nan_count_list)):\n",
    "        print(\"The Nan count in ({}): {}\".format(list_column_name[n],nan_count_list[n]))\n",
    "        \n",
    "    bars=[]\n",
    "    for nn in range(len(list_column_name)):\n",
    "        bars.append(list_column_name[nn])\n",
    "        \n",
    "    #bars = (list_column_name[0], list_column_name[1], list_column_name[2], list_column_name[2], list_column_name[3])    \n",
    "    y_pos = np.arange(len(list_column_name))\n",
    "    plt.bar(y_pos, nan_count_list)\n",
    "    plt.xticks(y_pos, bars, rotation=90)\n",
    "    plt.title('Total count of NaN in every feature.')\n",
    "    plt.xlabel('Features or variables.')\n",
    "    plt.ylabel('Number of Nan.')\n",
    "    plt.show()\n",
    "    print(\"\\n\")\n",
    "    \n",
    "    # The data type of all the variable or features\n",
    "    print(\"The data type of every feature:\\n \", data_frame.dtypes)\n",
    "    print(\"\\n\")\n",
    "        \n",
    "    # Finding the empty columns in the dataset\n",
    "    print('Empty columns status in the dataset')\n",
    "    for j in range(len(list_column_name)):\n",
    "        \n",
    "        if data_frame[list_column_name[j]].empty == True:\n",
    "                print('The column ({}) is empty'.format(list_column_name[j]))    \n",
    "        else:\n",
    "                print('The column ({}) is non-empty'.format(list_column_name[j]))\n",
    "                \n",
    "    \n",
    "    \n",
    "            \n",
    "\n",
    "        \n",
    "\n",
    "    "
   ]
  },
  {
   "cell_type": "code",
   "execution_count": null,
   "metadata": {},
   "outputs": [],
   "source": []
  },
  {
   "cell_type": "code",
   "execution_count": null,
   "metadata": {},
   "outputs": [],
   "source": []
  }
 ],
 "metadata": {
  "kernelspec": {
   "display_name": "Python 3",
   "language": "python",
   "name": "python3"
  },
  "language_info": {
   "codemirror_mode": {
    "name": "ipython",
    "version": 3
   },
   "file_extension": ".py",
   "mimetype": "text/x-python",
   "name": "python",
   "nbconvert_exporter": "python",
   "pygments_lexer": "ipython3",
   "version": "3.6.5"
  }
 },
 "nbformat": 4,
 "nbformat_minor": 2
}
