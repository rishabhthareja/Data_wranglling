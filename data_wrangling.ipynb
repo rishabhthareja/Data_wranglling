{
 "cells": [
  {
   "cell_type": "markdown",
   "metadata": {},
   "source": [
    "# Data wranglling \n",
    "(This fucntion will generate various parameters of the data for better understanding)"
   ]
  },
  {
   "cell_type": "markdown",
   "metadata": {},
   "source": [
    "FUNCTIONS\n",
    "\n"
   ]
  },
  {
   "cell_type": "code",
   "execution_count": 81,
   "metadata": {},
   "outputs": [],
   "source": [
    "def data_wranglling_info(data_frame):\n",
    "    \n",
    "    # Finding all the features in the dataset\n",
    "    null_val = data_frame.isnull()\n",
    "    list_column_name = []\n",
    "    for i in data_frame.columns:\n",
    "        list_column_name.append(i)\n",
    "        \n",
    "    print('The features in the dataset\\n',list_column_name)\n",
    "    print(\"\\n\")\n",
    "        \n",
    "    # Computing the number of NaN values in every feature\n",
    "    print('The number of Nan in every feature')\n",
    "    count=0\n",
    "    nan_count_list = []\n",
    "    for j in range(len(list_column_name)):\n",
    "        siz = len(data_frame[list_column_name[j]])\n",
    "        for nan in data_frame[list_column_name[j]].isna():\n",
    "            if nan == True:\n",
    "                count=count+1\n",
    "        nan_count_list.append(count)\n",
    "    \n",
    "    for n in range(len(nan_count_list)):\n",
    "        print(\"The Nan count in ({}) is {} out of total size {}\".format(list_column_name[n],nan_count_list[n], siz))\n",
    "        \n",
    "    bars=[]\n",
    "    for nn in range(len(list_column_name)):\n",
    "        bars.append(list_column_name[nn])\n",
    "        \n",
    "    #bars = (list_column_name[0], list_column_name[1], list_column_name[2], list_column_name[2], list_column_name[3])    \n",
    "    y_pos = np.arange(len(list_column_name))\n",
    "    plt.bar(y_pos, nan_count_list)\n",
    "    plt.xticks(y_pos, bars, rotation=90)\n",
    "    plt.title('Total count of NaN in every feature.')\n",
    "    plt.xlabel('Features or variables.')\n",
    "    plt.ylabel('Number of Nan.')\n",
    "    plt.show()\n",
    "    print(\"\\n\")\n",
    "    \n",
    "    # The data type of all the variable or features\n",
    "    print(\"The data type of every feature:\\n \", data_frame.dtypes)\n",
    "    print(\"\\n\")\n",
    "        \n",
    "    # Finding the empty columns in the dataset\n",
    "    print('Empty columns status in the dataset')\n",
    "    for j in range(len(list_column_name)):\n",
    "        \n",
    "        if data_frame[list_column_name[j]].empty == True:\n",
    "                print('The column ({}) is empty'.format(list_column_name[j]))    \n",
    "        else:\n",
    "                print('The column ({}) is non-empty'.format(list_column_name[j]))\n",
    "                \n",
    "    print(\"\\n\")\n",
    "    \n",
    "    # Find summary statistics of the underlying data with data type other than object.\n",
    "    \n",
    "    print(\"Statistical summary of the data.\")\n",
    "    for ii in list_column_name:\n",
    "        data_type = data_frame[ii].dtypes\n",
    "        if data_type != object:\n",
    "            print('The statistical summary of {}'.format(ii))\n",
    "            data = pd.Series(data_frame[ii])\n",
    "            print(data.describe())\n",
    "            print(\"\\n\")\n",
    "            \n",
    "    # Find the unique values in every feature or varaible.\n",
    "    \n",
    "    print(\"Unique values in every feature or varaible.\")\n",
    "    for ii in list_column_name:\n",
    "        print('The unique values in {}'.format(ii))\n",
    "        print(len(data_frame[ii].unique()))\n",
    "        print(\"\\n\")\n",
    "        \n",
    "\n",
    "                \n",
    "    \n",
    "    \n",
    "            \n",
    "\n",
    "        \n",
    "\n",
    "    "
   ]
  },
  {
   "cell_type": "markdown",
   "metadata": {},
   "source": [
    "Main function"
   ]
  },
  {
   "cell_type": "code",
   "execution_count": null,
   "metadata": {},
   "outputs": [],
   "source": [
    "import pandas as pd\n",
    "import seaborn as sns\n",
    "\n",
    "data_frame = sns.load_dataset('iris')\n",
    "data_wranglling_info(data_frame)"
   ]
  },
  {
   "cell_type": "code",
   "execution_count": null,
   "metadata": {},
   "outputs": [],
   "source": []
  }
 ],
 "metadata": {
  "kernelspec": {
   "display_name": "Python 3",
   "language": "python",
   "name": "python3"
  },
  "language_info": {
   "codemirror_mode": {
    "name": "ipython",
    "version": 3
   },
   "file_extension": ".py",
   "mimetype": "text/x-python",
   "name": "python",
   "nbconvert_exporter": "python",
   "pygments_lexer": "ipython3",
   "version": "3.6.5"
  }
 },
 "nbformat": 4,
 "nbformat_minor": 2
}
